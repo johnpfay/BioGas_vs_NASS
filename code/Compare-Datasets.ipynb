{
 "cells": [
  {
   "cell_type": "markdown",
   "metadata": {},
   "source": [
    "## Compare datasets\n",
    "Compares NASS county totals with values seen in the EWG dataset"
   ]
  },
  {
   "cell_type": "code",
   "execution_count": 1,
   "metadata": {},
   "outputs": [],
   "source": [
    "import pandas as pd\n",
    "%matplotlib inline"
   ]
  },
  {
   "cell_type": "markdown",
   "metadata": {},
   "source": [
    "### DEQ Data (pulled from online)"
   ]
  },
  {
   "cell_type": "code",
   "execution_count": 2,
   "metadata": {},
   "outputs": [],
   "source": [
    "#Get the DEQ datset (online) and pivot so that animals are all in one column\n",
    "dfDEQ_raw = pd.read_excel('https://files.nc.gov/ncdeq/List_Permitted_Animal_Facilities2-12-2019.xls',skiprows=2)\n",
    "dfDEQ = dfDEQ_raw.pivot_table(index='County Name',\n",
    "                              columns='Regulated Operation',\n",
    "                              values='Allowable Count',\n",
    "                              aggfunc = 'sum').fillna(0)\n",
    "#Combine poultry\n",
    "dfDEQ['Poultry'] = dfDEQ['Dry Poultry'] + dfDEQ['Wet Poultry']\n",
    "#Drop unused columns\n",
    "dfDEQ.drop(['Horses','Other Animals ','Dry Poultry','Wet Poultry'],axis=1,inplace=True)\n",
    "#Rename columns\n",
    "dfDEQ.columns = ['DEQ_Cattle','DEQ_Hogs','DEQ_Poultry']"
   ]
  },
  {
   "cell_type": "markdown",
   "metadata": {},
   "source": [
    "### EWG Data (from local scraped copies)"
   ]
  },
  {
   "cell_type": "code",
   "execution_count": 3,
   "metadata": {},
   "outputs": [],
   "source": [
    "#Get the EWG Datasets\n",
    "dfEWG_Poultry = pd.read_csv('../data/raw/ScrapedEWG/EWG_Poultry.csv',usecols=['BIRD_COUNT','COUNTYNAME'])\n",
    "dfEWG_Swine = pd.read_csv('../data/raw/ScrapedEWG/EWG_Swine.csv',usecols=['ANIMAL_COUNT','COUNTYNAME'])\n",
    "dfEWG_Cattle = pd.read_csv('../data/raw/ScrapedEWG/EWG_Cattle.csv',usecols=['ANIMAL_COUNT','COUNTYNAME'])\n",
    "\n",
    "#Pivot each dataset on county\n",
    "dfEWG_P1 = dfEWG_Poultry.groupby('COUNTYNAME').agg({'BIRD_COUNT':'sum'})\n",
    "dfEWG_S1 = dfEWG_Swine.groupby('COUNTYNAME').agg({'ANIMAL_COUNT':'sum'})\n",
    "dfEWG_C1 = dfEWG_Cattle.groupby('COUNTYNAME').agg({'ANIMAL_COUNT':'sum'})"
   ]
  },
  {
   "cell_type": "code",
   "execution_count": 4,
   "metadata": {},
   "outputs": [
    {
     "data": {
      "text/html": [
       "<div>\n",
       "<style scoped>\n",
       "    .dataframe tbody tr th:only-of-type {\n",
       "        vertical-align: middle;\n",
       "    }\n",
       "\n",
       "    .dataframe tbody tr th {\n",
       "        vertical-align: top;\n",
       "    }\n",
       "\n",
       "    .dataframe thead th {\n",
       "        text-align: right;\n",
       "    }\n",
       "</style>\n",
       "<table border=\"1\" class=\"dataframe\">\n",
       "  <thead>\n",
       "    <tr style=\"text-align: right;\">\n",
       "      <th></th>\n",
       "      <th>EWG_Poultry</th>\n",
       "      <th>EWG_Hogs</th>\n",
       "      <th>EWG_Cattle</th>\n",
       "    </tr>\n",
       "    <tr>\n",
       "      <th>COUNTYNAME</th>\n",
       "      <th></th>\n",
       "      <th></th>\n",
       "      <th></th>\n",
       "    </tr>\n",
       "  </thead>\n",
       "  <tbody>\n",
       "    <tr>\n",
       "      <th>Alamance</th>\n",
       "      <td>929430.0</td>\n",
       "      <td>600.0</td>\n",
       "      <td>1590.0</td>\n",
       "    </tr>\n",
       "    <tr>\n",
       "      <th>Alexander</th>\n",
       "      <td>3694536.0</td>\n",
       "      <td>NaN</td>\n",
       "      <td>650.0</td>\n",
       "    </tr>\n",
       "    <tr>\n",
       "      <th>Alleghany</th>\n",
       "      <td>14239.0</td>\n",
       "      <td>NaN</td>\n",
       "      <td>2117.0</td>\n",
       "    </tr>\n",
       "    <tr>\n",
       "      <th>Anson</th>\n",
       "      <td>4284486.0</td>\n",
       "      <td>46158.0</td>\n",
       "      <td>700.0</td>\n",
       "    </tr>\n",
       "    <tr>\n",
       "      <th>Ashe</th>\n",
       "      <td>28478.0</td>\n",
       "      <td>NaN</td>\n",
       "      <td>NaN</td>\n",
       "    </tr>\n",
       "  </tbody>\n",
       "</table>\n",
       "</div>"
      ],
      "text/plain": [
       "            EWG_Poultry  EWG_Hogs  EWG_Cattle\n",
       "COUNTYNAME                                   \n",
       "Alamance       929430.0     600.0      1590.0\n",
       "Alexander     3694536.0       NaN       650.0\n",
       "Alleghany       14239.0       NaN      2117.0\n",
       "Anson         4284486.0   46158.0       700.0\n",
       "Ashe            28478.0       NaN         NaN"
      ]
     },
     "execution_count": 4,
     "metadata": {},
     "output_type": "execute_result"
    }
   ],
   "source": [
    "#Merge into one\n",
    "dfEWG = pd.merge(pd.merge(dfEWG_P1,dfEWG_S1,left_index=True,right_index=True,how='outer'),\n",
    "                     dfEWG_C1,left_index=True,right_index=True,how='outer')\n",
    "\n",
    "dfEWG.columns = ['EWG_Poultry','EWG_Hogs','EWG_Cattle']\n",
    "dfEWG.head()"
   ]
  },
  {
   "cell_type": "markdown",
   "metadata": {},
   "source": [
    "### NASS data (from local processed copies)"
   ]
  },
  {
   "cell_type": "code",
   "execution_count": null,
   "metadata": {},
   "outputs": [],
   "source": []
  },
  {
   "cell_type": "code",
   "execution_count": 5,
   "metadata": {},
   "outputs": [],
   "source": [
    "#Get the NASS Datasets\n",
    "dfNASS_Poultry = pd.read_csv('../data/processed/CHICKENS_2017.csv',\n",
    "                             usecols=['county_name',\n",
    "                                      'CHICKENS, BROILERS - INVENTORY',\n",
    "                                      'CHICKENS, LAYERS - INVENTORY',\n",
    "                                      'CHICKENS, PULLETS, REPLACEMENT - INVENTORY',\n",
    "                                      'CHICKENS, ROOSTERS - INVENTORY'],\n",
    "                             index_col='county_name')\n",
    "dfNASS_Hogs = pd.read_csv('../data/processed/HOGS_2017.csv',\n",
    "                          usecols=('county_name','HOGS - INVENTORY'),\n",
    "                          index_col='county_name')\n",
    "dfNASS_Cattle = pd.read_csv('../data/processed/CATTLE_2017.csv',\n",
    "                            usecols=('county_name','CATTLE, INCL CALVES - INVENTORY'),\n",
    "                            index_col='county_name')\n",
    "\n",
    "#Sum all poultry columns\n",
    "dfNASS_Poultry['NASS_Poultry'] = dfNASS_Poultry.sum(axis=1)\n",
    "dfNASS_Poultry.drop(dfNASS_Poultry.columns[:-1],axis=1,inplace=True)\n",
    "\n",
    "#Rename the Hog and Cattle fields\n",
    "dfNASS_Hogs.columns = ['NASS_Hogs']\n",
    "dfNASS_Cattle.columns = ['NASS_Cattle']\n",
    "\n",
    "#Merge all tables together\n",
    "dfNASS = pd.merge(pd.merge(dfNASS_Poultry,dfNASS_Hogs,left_index=True,right_index=True,how='outer'),\n",
    "                           dfNASS_Cattle,left_index=True,right_index=True,how='outer')"
   ]
  },
  {
   "cell_type": "markdown",
   "metadata": {},
   "source": [
    "### Merge all the datasets together"
   ]
  },
  {
   "cell_type": "code",
   "execution_count": 6,
   "metadata": {},
   "outputs": [],
   "source": [
    "#Fix indexes \n",
    "dfDEQ.set_index(dfDEQ.index.str.upper(),inplace=True)\n",
    "dfEWG.set_index(dfEWG.index.str.upper(),inplace=True)\n",
    "\n",
    "#Merge\n",
    "dfAll = pd.merge(pd.merge(dfDEQ,dfEWG,left_index=True,right_index=True,how='outer'),\n",
    "                 dfNASS,left_index=True,right_index=True,how='outer')\n",
    "dfAll.to_csv('../data/processed/DataComparison.csv',index_label='COUNTY')"
   ]
  },
  {
   "cell_type": "code",
   "execution_count": 7,
   "metadata": {},
   "outputs": [
    {
     "data": {
      "image/png": "[encoded data removed]",
      "text/plain": [
       "<Figure size 432x288 with 1 Axes>"
      ]
     },
     "metadata": {
      "needs_background": "light"
     },
     "output_type": "display_data"
    }
   ],
   "source": [
    "#Plot\n",
    "ax = dfAll.plot(kind='scatter',\n",
    "                x='NASS_Hogs',\n",
    "                y='DEQ_Hogs',\n",
    "                alpha=0.5)"
   ]
  },
  {
   "cell_type": "code",
   "execution_count": 8,
   "metadata": {},
   "outputs": [
    {
     "data": {
      "image/png": "[encoded data removed]",
      "text/plain": [
       "<Figure size 432x288 with 1 Axes>"
      ]
     },
     "metadata": {
      "needs_background": "light"
     },
     "output_type": "display_data"
    }
   ],
   "source": [
    "dfAll.plot(kind='scatter',\n",
    "           x='NASS_Hogs',\n",
    "           y='EWG_Hogs',\n",
    "           color='red',\n",
    "           alpha=0.5);"
   ]
  }
 ],
 "metadata": {
  "kernelspec": {
   "display_name": "Python 3",
   "language": "python",
   "name": "python3"
  },
  "language_info": {
   "codemirror_mode": {
    "name": "ipython",
    "version": 3
   },
   "file_extension": ".py",
   "mimetype": "text/x-python",
   "name": "python",
   "nbconvert_exporter": "python",
   "pygments_lexer": "ipython3",
   "version": "3.6.6"
  }
 },
 "nbformat": 4,
 "nbformat_minor": 2
}
