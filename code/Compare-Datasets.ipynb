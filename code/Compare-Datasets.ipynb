{
 "cells": [
  {
   "cell_type": "markdown",
   "metadata": {},
   "source": [
    "## Compare datasets\n",
    "Compares NASS county totals with values seen in the EWG dataset"
   ]
  },
  {
   "cell_type": "code",
   "execution_count": 1,
   "metadata": {},
   "outputs": [],
   "source": [
    "import pandas as pd\n",
    "%matplotlib inline"
   ]
  },
  {
   "cell_type": "markdown",
   "metadata": {},
   "source": [
    "### DEQ Data (pulled from online)"
   ]
  },
  {
   "cell_type": "code",
   "execution_count": 3,
   "metadata": {},
   "outputs": [],
   "source": [
    "#Get the DEQ datset (online) and pivot so that animals are all in one column\n",
    "dfDEQ_raw = pd.read_excel('https://files.nc.gov/ncdeq/List_Permitted_Animal_Facilities2-12-2019.xls',skiprows=2)\n",
    "dfDEQ = dfDEQ_raw.pivot_table(index='County Name',\n",
    "                              columns='Regulated Operation',\n",
    "                              values='Allowable Count',\n",
    "                              aggfunc = 'sum').fillna(0)\n",
    "#Combine poultry\n",
    "dfDEQ['Poultry'] = dfDEQ['Dry Poultry'] + dfDEQ['Wet Poultry']\n",
    "#Drop unused columns\n",
    "dfDEQ.drop(['Horses','Other Animals ','Dry Poultry','Wet Poultry'],axis=1,inplace=True)\n",
    "#Rename columns\n",
    "dfDEQ.columns = ['DEQ_Cattle','DEQ_Hogs','DEQ_Poultry']"
   ]
  },
  {
   "cell_type": "markdown",
   "metadata": {},
   "source": [
    "### EWG Data (from local scraped copies)"
   ]
  },
  {
   "cell_type": "code",
   "execution_count": 4,
   "metadata": {},
   "outputs": [],
   "source": [
    "#Get the EWG Datasets\n",
    "dfEWG_Poultry = pd.read_csv('../data/raw/ScrapedEWG/EWG_Poultry.csv',usecols=['BIRD_COUNT','COUNTYNAME'])\n",
    "dfEWG_Swine = pd.read_csv('../data/raw/ScrapedEWG/EWG_Swine.csv',usecols=['ANIMAL_COUNT','COUNTYNAME'])\n",
    "dfEWG_Cattle = pd.read_csv('../data/raw/ScrapedEWG/EWG_Cattle.csv',usecols=['ANIMAL_COUNT','COUNTYNAME'])\n",
    "\n",
    "#Merge into one\n",
    "dfEWG_all = pd.merge(pd.merge(dfEWG_Poultry,dfEWG_Swine,on='COUNTYNAME',how='outer'),\n",
    "                     dfEWG_Cattle,on='COUNTYNAME',how='outer')\n",
    "#Pivot on county\n",
    "dfEWG = dfEWG_all.groupby('COUNTYNAME').agg({'BIRD_COUNT':'sum',\n",
    "                                             'ANIMAL_COUNT_x':'sum',\n",
    "                                             'ANIMAL_COUNT_y':'sum'})\n",
    "#Rename columns\n",
    "dfEWG.columns = ['EWG_Poultry','EWG_Hogs','EWG_Cattle']"
   ]
  },
  {
   "cell_type": "markdown",
   "metadata": {},
   "source": [
    "### NASS data (from local processed copies)"
   ]
  },
  {
   "cell_type": "code",
   "execution_count": 5,
   "metadata": {},
   "outputs": [],
   "source": [
    "#Get the NASS Datasets\n",
    "dfNASS_Poultry = pd.read_csv('../data/processed/CHICKENS_2017.csv',\n",
    "                             usecols=['county_name',\n",
    "                                      'CHICKENS, BROILERS - INVENTORY',\n",
    "                                      'CHICKENS, LAYERS - INVENTORY',\n",
    "                                      'CHICKENS, PULLETS, REPLACEMENT - INVENTORY',\n",
    "                                      'CHICKENS, ROOSTERS - INVENTORY'],\n",
    "                             index_col='county_name')\n",
    "dfNASS_Hogs = pd.read_csv('../data/processed/HOGS_2017.csv',\n",
    "                          usecols=('county_name','HOGS - INVENTORY'),\n",
    "                          index_col='county_name')\n",
    "dfNASS_Cattle = pd.read_csv('../data/processed/CATTLE_2017.csv',\n",
    "                            usecols=('county_name','CATTLE, INCL CALVES - INVENTORY'),\n",
    "                            index_col='county_name')\n",
    "\n",
    "#Sum all poultry columns\n",
    "dfNASS_Poultry['NASS_Poultry'] = dfNASS_Poultry.sum(axis=1)\n",
    "dfNASS_Poultry.drop(dfNASS_Poultry.columns[:-1],axis=1,inplace=True)\n",
    "\n",
    "#Rename the Hog and Cattle fields\n",
    "dfNASS_Hogs.columns = ['NASS_Hogs']\n",
    "dfNASS_Cattle.columns = ['NASS_Cattle']\n",
    "\n",
    "#Merge all tables together\n",
    "dfNASS = pd.merge(pd.merge(dfNASS_Poultry,dfNASS_Hogs,left_index=True,right_index=True,how='outer'),\n",
    "                           dfNASS_Cattle,left_index=True,right_index=True,how='outer')"
   ]
  },
  {
   "cell_type": "markdown",
   "metadata": {},
   "source": [
    "### Merge all the datasets together"
   ]
  },
  {
   "cell_type": "code",
   "execution_count": 16,
   "metadata": {},
   "outputs": [],
   "source": [
    "#Fix indexes \n",
    "dfDEQ.set_index(dfDEQ.index.str.upper(),inplace=True)\n",
    "dfEWG.set_index(dfEWG.index.str.upper(),inplace=True)\n",
    "\n",
    "#Merge\n",
    "dfAll = pd.merge(pd.merge(dfDEQ,dfEWG,left_index=True,right_index=True,how='outer'),\n",
    "                 dfNASS,left_index=True,right_index=True,how='outer')\n",
    "dfAll.to_csv('../data/processed/DataComparison.csv',index_label='COUNTY')"
   ]
  },
  {
   "cell_type": "code",
   "execution_count": 14,
   "metadata": {},
   "outputs": [
    {
     "data": {
      "image/png": "[encoded data removed]",
      "text/plain": [
       "<Figure size 432x288 with 1 Axes>"
      ]
     },
     "metadata": {
      "needs_background": "light"
     },
     "output_type": "display_data"
    }
   ],
   "source": [
    "#Plot\n",
    "ax = dfAll.plot(kind='scatter',\n",
    "                x='NASS_Hogs',\n",
    "                y='DEQ_Hogs',\n",
    "                alpha=0.5)"
   ]
  },
  {
   "cell_type": "code",
   "execution_count": 13,
   "metadata": {},
   "outputs": [
    {
     "data": {
      "image/png": "[encoded data removed]",
      "text/plain": [
       "<Figure size 432x288 with 1 Axes>"
      ]
     },
     "metadata": {
      "needs_background": "light"
     },
     "output_type": "display_data"
    }
   ],
   "source": [
    "dfAll.plot(kind='scatter',\n",
    "           x='NASS_Hogs',\n",
    "           y='EWG_Hogs',\n",
    "           color='red',\n",
    "           alpha=0.5);"
   ]
  }
 ],
 "metadata": {
  "kernelspec": {
   "display_name": "Python 3",
   "language": "python",
   "name": "python3"
  },
  "language_info": {
   "codemirror_mode": {
    "name": "ipython",
    "version": 3
   },
   "file_extension": ".py",
   "mimetype": "text/x-python",
   "name": "python",
   "nbconvert_exporter": "python",
   "pygments_lexer": "ipython3",
   "version": "3.6.6"
  }
 },
 "nbformat": 4,
 "nbformat_minor": 2
}
