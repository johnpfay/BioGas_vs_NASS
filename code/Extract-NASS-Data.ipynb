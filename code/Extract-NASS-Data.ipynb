{
 "cells": [
  {
   "cell_type": "markdown",
   "metadata": {},
   "source": [
    "Ag Census Page: https://quickstats.nass.usda.gov/api\n",
    "\n",
    "Use https://quickstats.nass.usda.gov/ to explore values..."
   ]
  },
  {
   "cell_type": "code",
   "execution_count": 2,
   "metadata": {},
   "outputs": [],
   "source": [
    "#Imports\n",
    "import pandas as pd\n",
    "import numpy as np\n",
    "import requests, os\n",
    "import urllib"
   ]
  },
  {
   "cell_type": "code",
   "execution_count": 3,
   "metadata": {},
   "outputs": [],
   "source": [
    "#Read in Ag Census Key\n",
    "df = pd.read_csv('{}\\\\APIkeys.csv'.format(os.environ['localappdata']))\n",
    "AgKey = df.loc[df.Service == 'NASS','Key'].values[0]"
   ]
  },
  {
   "cell_type": "code",
   "execution_count": 7,
   "metadata": {},
   "outputs": [
    {
     "name": "stdout",
     "output_type": "stream",
     "text": [
      "243 records returned for HOGS\n",
      "801 records returned for CATTLE\n",
      "787 records returned for CHICKENS\n"
     ]
    }
   ],
   "source": [
    "#Gets poultry data\n",
    "for commodity in ['HOGS','CATTLE','CHICKENS']:\n",
    "    apiURL = 'https://quickstats.nass.usda.gov/api/api_GET'\n",
    "    params = {'key':AgKey,#   \n",
    "              'source_desc':'CENSUS',\n",
    "              'commodity_desc':commodity,\n",
    "              'domain_desc':'TOTAL',\n",
    "              'unit_desc':'HEAD',\n",
    "              'state_fips_code':'37',\n",
    "              'year':'2017',\n",
    "              'agg_level_desc':'COUNTY'\n",
    "             }\n",
    "    response_raw = requests.get(apiURL,params)\n",
    "    response_json = response_raw.json()\n",
    "\n",
    "    #Report if the request was errant\n",
    "    if(response_raw.status_code == 400):\n",
    "        print(\"Broken URL for {}\\n{}\".format(commodity,response_raw.url))\n",
    "        continue\n",
    "        \n",
    "    #Otherwise, keep going\n",
    "    df = pd.DataFrame(requests.get(apiURL,params).json()['data'])\n",
    "\n",
    "    #Fix values in \"Values\" column: \n",
    "    # Remove commas\n",
    "    df['Value'] = df.Value.apply(lambda x: x.replace(\",\",\"\"))\n",
    "    #Set non numeric value to nan\n",
    "    df['Value'] = df.Value.apply(lambda x: x if x.isnumeric() else np.nan)\n",
    "    #Convert type to float\n",
    "    df['Value'] = df.Value.astype(float)\n",
    "\n",
    "    print(\"{} records returned for {}\".format(len(df),commodity))\n",
    "    \n",
    "    #Pivot\n",
    "    dfPivot = df.pivot_table(index = 'county_name',columns=['short_desc'],values='Value')\n",
    "    dfPivot.to_csv('../data/processed/{}_2017.csv'.format(commodity))"
   ]
  },
  {
   "cell_type": "code",
   "execution_count": null,
   "metadata": {},
   "outputs": [],
   "source": []
  }
 ],
 "metadata": {
  "kernelspec": {
   "display_name": "Python 3",
   "language": "python",
   "name": "python3"
  },
  "language_info": {
   "codemirror_mode": {
    "name": "ipython",
    "version": 3
   },
   "file_extension": ".py",
   "mimetype": "text/x-python",
   "name": "python",
   "nbconvert_exporter": "python",
   "pygments_lexer": "ipython3",
   "version": "3.6.6"
  }
 },
 "nbformat": 4,
 "nbformat_minor": 2
}
