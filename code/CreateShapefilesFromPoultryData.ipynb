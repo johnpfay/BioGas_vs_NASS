{
 "cells": [
  {
   "cell_type": "markdown",
   "metadata": {},
   "source": [
    "# Compare locations"
   ]
  },
  {
   "cell_type": "code",
   "execution_count": 1,
   "metadata": {},
   "outputs": [],
   "source": [
    "import pandas as pd\n",
    "import geopandas as gpd\n",
    "from shapely.geometry import Point"
   ]
  },
  {
   "cell_type": "code",
   "execution_count": 5,
   "metadata": {},
   "outputs": [],
   "source": [
    "dfEWG = pd.read_excel('../data/raw/EWG_Poultry_wPot.xlsx',sheet_name='EWG_Poultry')\n",
    "dfDEQ = pd.read_excel('../data/raw/EWG_Poultry_wPot.xlsx',sheet_name='DEQ poutlry ')"
   ]
  },
  {
   "cell_type": "code",
   "execution_count": 21,
   "metadata": {},
   "outputs": [],
   "source": [
    "geom_EWG = [Point(xy) for xy in zip(dfEWG.X,dfEWG.Y)]\n",
    "fcEWG = gpd.GeoDataFrame(dfEWG,geometry = geom_EWG)\n",
    "fcEWG.crs = {'init':'epsg:4326'}\n",
    "fcEWG.to_file('../data/processed/EWG.shp')"
   ]
  },
  {
   "cell_type": "code",
   "execution_count": 28,
   "metadata": {},
   "outputs": [],
   "source": [
    "dfDEQ.drop(['Issued Date','Effective Date','Expiration Date'],axis='columns',inplace=True)"
   ]
  },
  {
   "cell_type": "code",
   "execution_count": 30,
   "metadata": {},
   "outputs": [],
   "source": [
    "geom_DEQ = [Point(xy) for xy in zip(dfDEQ['Location Long Num'],dfDEQ['Location Lat Num'])]\n",
    "fcDEQ = gpd.GeoDataFrame(dfDEQ,geometry = geom_DEQ)\n",
    "fcDEQ.crs = {'init':'epsg:4326'}\n",
    "fcDEQ.to_file('../data/processed/DEQ.shp')"
   ]
  }
 ],
 "metadata": {
  "kernelspec": {
   "display_name": "Python 3",
   "language": "python",
   "name": "python3"
  },
  "language_info": {
   "codemirror_mode": {
    "name": "ipython",
    "version": 3
   },
   "file_extension": ".py",
   "mimetype": "text/x-python",
   "name": "python",
   "nbconvert_exporter": "python",
   "pygments_lexer": "ipython3",
   "version": "3.6.6"
  }
 },
 "nbformat": 4,
 "nbformat_minor": 2
}
