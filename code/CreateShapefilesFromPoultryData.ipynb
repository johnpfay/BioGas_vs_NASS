{
 "cells": [
  {
   "cell_type": "markdown",
   "metadata": {},
   "source": [
    "# Compare locations"
   ]
  },
  {
   "cell_type": "code",
   "execution_count": null,
   "metadata": {},
   "outputs": [],
   "source": [
    "import pandas as pd\n",
    "import geopandas as gpd\n",
    "from shapely.geometry import Point\n",
    "import folium\n",
    "%matplotlib inline"
   ]
  },
  {
   "cell_type": "markdown",
   "metadata": {},
   "source": [
    "### Read and convert the EWG Data"
   ]
  },
  {
   "cell_type": "code",
   "execution_count": null,
   "metadata": {},
   "outputs": [],
   "source": [
    "dfEWG = pd.read_excel('../data/raw/EWG_Poultry_wPot.xlsx',sheet_name='EWG_Poultry')\n",
    "geom_EWG = [Point(xy) for xy in zip(dfEWG.X,dfEWG.Y)]\n",
    "fcEWG = gpd.GeoDataFrame(dfEWG,geometry = geom_EWG)\n",
    "fcEWG.crs = {'init':'epsg:4326'}\n",
    "fcEWG.to_file('../data/processed/EWG.shp')\n",
    "#fcEWG.to_file('../data/processed/EWG.geojson', driver='GeoJSON')"
   ]
  },
  {
   "cell_type": "markdown",
   "metadata": {},
   "source": [
    "### Read and convert the DEQ Data"
   ]
  },
  {
   "cell_type": "code",
   "execution_count": null,
   "metadata": {},
   "outputs": [],
   "source": [
    "#Read and convert the DEQ data\n",
    "dfDEQ = pd.read_excel('../data/raw/EWG_Poultry_wPot.xlsx',sheet_name='DEQ poutlry ')\n",
    "dfDEQ.drop(['Issued Date','Effective Date','Expiration Date'],axis='columns',inplace=True)\n",
    "geom_DEQ = [Point(xy) for xy in zip(dfDEQ['Location Long Num'],dfDEQ['Location Lat Num'])]\n",
    "fcDEQ = gpd.GeoDataFrame(dfDEQ,geometry = geom_DEQ)\n",
    "fcDEQ.crs = {'init':'epsg:4326'}\n",
    "fcDEQ.to_file('../data/processed/DEQ.shp')\n",
    "#fcDEQ.to_file('../data/processed/DEQ.geojson', driver='GeoJSON')"
   ]
  },
  {
   "cell_type": "markdown",
   "metadata": {},
   "source": [
    "### Read and convert the CAFO(?) Data"
   ]
  },
  {
   "cell_type": "code",
   "execution_count": null,
   "metadata": {},
   "outputs": [],
   "source": [
    "#Read and convert the DEQ data\n",
    "df = pd.read_excel('../data/raw/List_Permitted_Animal_Facilities2-12-2019.xls',skiprows=2,sheet_name='Report1')\n",
    "df.drop(['Issued Date','Effective Date','Expiration Date'],axis='columns',inplace=True)\n",
    "geom= [Point(xy) for xy in zip(df['Location Long Num'],df['Location Lat Num'])]\n",
    "fc = gpd.GeoDataFrame(df,geometry = geom)\n",
    "fc.crs = {'init':'epsg:4326'}\n",
    "fc.to_file('../data/processed/TV.shp')"
   ]
  },
  {
   "cell_type": "markdown",
   "metadata": {},
   "source": [
    "### Map the data"
   ]
  },
  {
   "cell_type": "code",
   "execution_count": null,
   "metadata": {},
   "outputs": [],
   "source": [
    "#Create an html map\n",
    "q = folium.Map(location=[35,-80],\n",
    "               zoom_start=8,\n",
    "               tiles='https://server.arcgisonline.com/ArcGIS/rest/services/World_Imagery/MapServer/tile/{z}/{y}/{x}',\n",
    "               attr='Tiles &copy; Esri &mdash; Source: Esri, i-cubed, USDA, USGS, AEX, GeoEye, Getmapping, Aerogrid, IGN, IGP, UPR-EGP, and the GIS User Community'\n",
    "              )\n",
    "\n",
    "for pt in fcEWG.geometry:\n",
    "    folium.Circle(location=(pt.y,pt.x),color='yellow',radius=50,alpha=0.6).add_to(q)\n",
    "for pt in fcDEQ.geometry:\n",
    "    folium.Circle(location=(pt.y,pt.x),color='red',radius=75,alpha=0.2).add_to(q)\n",
    "\n",
    "q.save('../data/processed/Poultrymap.html')"
   ]
  }
 ],
 "metadata": {
  "kernelspec": {
   "display_name": "Python 3",
   "language": "python",
   "name": "python3"
  },
  "language_info": {
   "codemirror_mode": {
    "name": "ipython",
    "version": 3
   },
   "file_extension": ".py",
   "mimetype": "text/x-python",
   "name": "python",
   "nbconvert_exporter": "python",
   "pygments_lexer": "ipython3",
   "version": "3.6.6"
  }
 },
 "nbformat": 4,
 "nbformat_minor": 2
}
